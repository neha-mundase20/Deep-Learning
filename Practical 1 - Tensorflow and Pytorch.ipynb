{
 "cells": [
  {
   "cell_type": "markdown",
   "id": "37ee7431",
   "metadata": {},
   "source": [
    "TensorFlow is an open-source machine learning framework developed by Google. It’s widely used for numerical computation and building machine learning models, particularly deep learning models. TensorFlow is highly flexible and can run on various platforms, including CPUs, GPUs, and TPUs, making it a powerful tool for both research and production.\n",
    "\n",
    "Key Concepts Tensors:\n",
    "\n",
    "Definition: Tensors are the fundamental building blocks in TensorFlow, representing multi-dimensional arrays. Rank: The number of dimensions a tensor has (e.g., a scalar has rank 0, a vector rank 1, a matrix rank 2). Shape: The dimensions of the tensor, represented as a tuple (e.g., a 3x4 matrix has a shape of (3, 4))."
   ]
  },
  {
   "cell_type": "code",
   "execution_count": 1,
   "id": "f594084f",
   "metadata": {},
   "outputs": [],
   "source": [
    "import tensorflow as tf"
   ]
  },
  {
   "cell_type": "code",
   "execution_count": 2,
   "id": "337c9e4e",
   "metadata": {},
   "outputs": [
    {
     "name": "stdout",
     "output_type": "stream",
     "text": [
      "tf.Tensor(900080000, shape=(), dtype=int32)\n"
     ]
    }
   ],
   "source": [
    "a=tf.constant(80000)\n",
    "b=tf.constant(900000000)\n",
    "c=a+b\n",
    "print(c)"
   ]
  },
  {
   "cell_type": "code",
   "execution_count": 4,
   "id": "c4fea045",
   "metadata": {},
   "outputs": [
    {
     "name": "stdout",
     "output_type": "stream",
     "text": [
      "900080000\n"
     ]
    }
   ],
   "source": [
    "print(c.numpy())"
   ]
  },
  {
   "cell_type": "code",
   "execution_count": 9,
   "id": "8ab4f332",
   "metadata": {},
   "outputs": [
    {
     "name": "stdout",
     "output_type": "stream",
     "text": [
      "tf.Tensor(\n",
      "[[ 30256  15376  18688]\n",
      " [107604  49352  61696]], shape=(2, 3), dtype=int32)\n"
     ]
    }
   ],
   "source": [
    "x=tf.Variable([[248,124,146],\n",
    "              [882,398,482]])\n",
    "\n",
    "y=tf.constant([122,124,128])\n",
    "\n",
    "print(x*y)"
   ]
  },
  {
   "cell_type": "code",
   "execution_count": 10,
   "id": "74125157",
   "metadata": {},
   "outputs": [
    {
     "name": "stdout",
     "output_type": "stream",
     "text": [
      "tf.Tensor(\n",
      "[[248 882]\n",
      " [124 398]\n",
      " [146 482]], shape=(3, 2), dtype=int32)\n"
     ]
    }
   ],
   "source": [
    "x=tf.transpose(x)\n",
    "print(x)"
   ]
  },
  {
   "cell_type": "markdown",
   "id": "c46a2051",
   "metadata": {},
   "source": [
    "Computational Graph: TensorFlow uses a computational graph to represent and execute operations. Each operation corresponds to a node in the graph, and edges represent the data flow (tensors)."
   ]
  },
  {
   "cell_type": "code",
   "execution_count": 11,
   "id": "30f4f68b",
   "metadata": {},
   "outputs": [],
   "source": [
    "import torch"
   ]
  },
  {
   "cell_type": "code",
   "execution_count": 12,
   "id": "64191eab",
   "metadata": {},
   "outputs": [
    {
     "name": "stdout",
     "output_type": "stream",
     "text": [
      "tensor([564, 568, 572])\n",
      "tensor([320, 320, 320])\n"
     ]
    }
   ],
   "source": [
    "a=torch.tensor([122,124,126])\n",
    "b=torch.tensor([442,444,446])\n",
    "\n",
    "print(a+b)\n",
    "\n",
    "print(b-a)"
   ]
  },
  {
   "cell_type": "code",
   "execution_count": 13,
   "id": "21d8b327",
   "metadata": {},
   "outputs": [
    {
     "name": "stdout",
     "output_type": "stream",
     "text": [
      "tensor([53924, 55056, 56196])\n"
     ]
    }
   ],
   "source": [
    "print(a*b)"
   ]
  },
  {
   "cell_type": "markdown",
   "id": "ef8a17d5",
   "metadata": {},
   "source": [
    "In a static graph that Tensorflow uses, the entire computation process is defined before execution. You first define the graph, then run the session to compute the results.\n",
    "\n",
    "Dynamic graphs are defined and executed at runtime. This is the approach used by PyTorch. Every time a forward pass is made, a new graph is created on the fly."
   ]
  },
  {
   "cell_type": "code",
   "execution_count": 14,
   "id": "75fb338b",
   "metadata": {},
   "outputs": [
    {
     "data": {
      "text/plain": [
       "torch.Size([3])"
      ]
     },
     "execution_count": 14,
     "metadata": {},
     "output_type": "execute_result"
    }
   ],
   "source": [
    "a.shape"
   ]
  },
  {
   "cell_type": "code",
   "execution_count": 17,
   "id": "59085484",
   "metadata": {},
   "outputs": [
    {
     "name": "stdout",
     "output_type": "stream",
     "text": [
      "tensor([[1., 1., 1., 1.],\n",
      "        [1., 1., 1., 1.],\n",
      "        [1., 1., 1., 1.],\n",
      "        [1., 1., 1., 1.]])\n",
      "tensor([[0., 0., 0., 0.],\n",
      "        [0., 0., 0., 0.],\n",
      "        [0., 0., 0., 0.],\n",
      "        [0., 0., 0., 0.]])\n"
     ]
    }
   ],
   "source": [
    "tensor1=torch.ones(4,4)\n",
    "print(tensor1)\n",
    "tensor2=torch.zeros(4,4)\n",
    "print(tensor2)"
   ]
  },
  {
   "cell_type": "code",
   "execution_count": 18,
   "id": "a4a46c25",
   "metadata": {},
   "outputs": [
    {
     "name": "stdout",
     "output_type": "stream",
     "text": [
      "tensor([[1., 1., 1., 1.],\n",
      "        [1., 1., 1., 1.],\n",
      "        [1., 1., 1., 1.],\n",
      "        [1., 1., 1., 1.],\n",
      "        [0., 0., 0., 0.],\n",
      "        [0., 0., 0., 0.],\n",
      "        [0., 0., 0., 0.],\n",
      "        [0., 0., 0., 0.]])\n"
     ]
    }
   ],
   "source": [
    "print(torch.cat([tensor1,tensor2]))"
   ]
  },
  {
   "cell_type": "code",
   "execution_count": 19,
   "id": "fe977e60",
   "metadata": {},
   "outputs": [
    {
     "name": "stdout",
     "output_type": "stream",
     "text": [
      "[[1. 1. 1. 1.]\n",
      " [1. 1. 1. 1.]\n",
      " [1. 1. 1. 1.]\n",
      " [1. 1. 1. 1.]]\n"
     ]
    }
   ],
   "source": [
    "print(tensor1.numpy())"
   ]
  },
  {
   "cell_type": "code",
   "execution_count": 20,
   "id": "ef690957",
   "metadata": {},
   "outputs": [
    {
     "name": "stdout",
     "output_type": "stream",
     "text": [
      "tensor([[1., 1., 1., 1.],\n",
      "        [1., 1., 1., 1.],\n",
      "        [1., 1., 1., 1.],\n",
      "        [1., 1., 1., 1.]])\n"
     ]
    }
   ],
   "source": [
    "print(tensor1+tensor2)"
   ]
  },
  {
   "cell_type": "code",
   "execution_count": 21,
   "id": "611df3a4",
   "metadata": {},
   "outputs": [
    {
     "name": "stdout",
     "output_type": "stream",
     "text": [
      "tensor([[0., 0., 0., 0.],\n",
      "        [0., 0., 0., 0.],\n",
      "        [0., 0., 0., 0.],\n",
      "        [0., 0., 0., 0.]])\n"
     ]
    }
   ],
   "source": [
    "print(tensor1*tensor2)"
   ]
  }
 ],
 "metadata": {
  "kernelspec": {
   "display_name": "Python 3 (ipykernel)",
   "language": "python",
   "name": "python3"
  },
  "language_info": {
   "codemirror_mode": {
    "name": "ipython",
    "version": 3
   },
   "file_extension": ".py",
   "mimetype": "text/x-python",
   "name": "python",
   "nbconvert_exporter": "python",
   "pygments_lexer": "ipython3",
   "version": "3.10.9"
  }
 },
 "nbformat": 4,
 "nbformat_minor": 5
}
