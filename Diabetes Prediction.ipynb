{
 "cells": [
  {
   "cell_type": "code",
   "execution_count": 1,
   "id": "b247ecf9",
   "metadata": {},
   "outputs": [],
   "source": [
    "import numpy as np\n",
    "import pandas as pd"
   ]
  },
  {
   "cell_type": "code",
   "execution_count": 2,
   "id": "35573381",
   "metadata": {},
   "outputs": [],
   "source": [
    "df=pd.read_csv(r\"C:\\Users\\Neha\\Downloads\\diabetes (1).csv\")"
   ]
  },
  {
   "cell_type": "code",
   "execution_count": 3,
   "id": "57876c10",
   "metadata": {},
   "outputs": [
    {
     "data": {
      "text/html": [
       "<div>\n",
       "<style scoped>\n",
       "    .dataframe tbody tr th:only-of-type {\n",
       "        vertical-align: middle;\n",
       "    }\n",
       "\n",
       "    .dataframe tbody tr th {\n",
       "        vertical-align: top;\n",
       "    }\n",
       "\n",
       "    .dataframe thead th {\n",
       "        text-align: right;\n",
       "    }\n",
       "</style>\n",
       "<table border=\"1\" class=\"dataframe\">\n",
       "  <thead>\n",
       "    <tr style=\"text-align: right;\">\n",
       "      <th></th>\n",
       "      <th>Pregnancies</th>\n",
       "      <th>Glucose</th>\n",
       "      <th>BloodPressure</th>\n",
       "      <th>SkinThickness</th>\n",
       "      <th>Insulin</th>\n",
       "      <th>BMI</th>\n",
       "      <th>DiabetesPedigreeFunction</th>\n",
       "      <th>Age</th>\n",
       "      <th>Outcome</th>\n",
       "    </tr>\n",
       "  </thead>\n",
       "  <tbody>\n",
       "    <tr>\n",
       "      <th>0</th>\n",
       "      <td>6</td>\n",
       "      <td>148</td>\n",
       "      <td>72</td>\n",
       "      <td>35</td>\n",
       "      <td>0</td>\n",
       "      <td>33.6</td>\n",
       "      <td>0.627</td>\n",
       "      <td>50</td>\n",
       "      <td>1</td>\n",
       "    </tr>\n",
       "    <tr>\n",
       "      <th>1</th>\n",
       "      <td>1</td>\n",
       "      <td>85</td>\n",
       "      <td>66</td>\n",
       "      <td>29</td>\n",
       "      <td>0</td>\n",
       "      <td>26.6</td>\n",
       "      <td>0.351</td>\n",
       "      <td>31</td>\n",
       "      <td>0</td>\n",
       "    </tr>\n",
       "    <tr>\n",
       "      <th>2</th>\n",
       "      <td>8</td>\n",
       "      <td>183</td>\n",
       "      <td>64</td>\n",
       "      <td>0</td>\n",
       "      <td>0</td>\n",
       "      <td>23.3</td>\n",
       "      <td>0.672</td>\n",
       "      <td>32</td>\n",
       "      <td>1</td>\n",
       "    </tr>\n",
       "    <tr>\n",
       "      <th>3</th>\n",
       "      <td>1</td>\n",
       "      <td>89</td>\n",
       "      <td>66</td>\n",
       "      <td>23</td>\n",
       "      <td>94</td>\n",
       "      <td>28.1</td>\n",
       "      <td>0.167</td>\n",
       "      <td>21</td>\n",
       "      <td>0</td>\n",
       "    </tr>\n",
       "    <tr>\n",
       "      <th>4</th>\n",
       "      <td>0</td>\n",
       "      <td>137</td>\n",
       "      <td>40</td>\n",
       "      <td>35</td>\n",
       "      <td>168</td>\n",
       "      <td>43.1</td>\n",
       "      <td>2.288</td>\n",
       "      <td>33</td>\n",
       "      <td>1</td>\n",
       "    </tr>\n",
       "  </tbody>\n",
       "</table>\n",
       "</div>"
      ],
      "text/plain": [
       "   Pregnancies  Glucose  BloodPressure  SkinThickness  Insulin   BMI  \\\n",
       "0            6      148             72             35        0  33.6   \n",
       "1            1       85             66             29        0  26.6   \n",
       "2            8      183             64              0        0  23.3   \n",
       "3            1       89             66             23       94  28.1   \n",
       "4            0      137             40             35      168  43.1   \n",
       "\n",
       "   DiabetesPedigreeFunction  Age  Outcome  \n",
       "0                     0.627   50        1  \n",
       "1                     0.351   31        0  \n",
       "2                     0.672   32        1  \n",
       "3                     0.167   21        0  \n",
       "4                     2.288   33        1  "
      ]
     },
     "execution_count": 3,
     "metadata": {},
     "output_type": "execute_result"
    }
   ],
   "source": [
    "df.head()"
   ]
  },
  {
   "cell_type": "code",
   "execution_count": 4,
   "id": "64f23d0f",
   "metadata": {},
   "outputs": [
    {
     "data": {
      "text/plain": [
       "(768, 9)"
      ]
     },
     "execution_count": 4,
     "metadata": {},
     "output_type": "execute_result"
    }
   ],
   "source": [
    "df.shape"
   ]
  },
  {
   "cell_type": "code",
   "execution_count": 5,
   "id": "be72f9dc",
   "metadata": {},
   "outputs": [
    {
     "data": {
      "text/plain": [
       "Index(['Pregnancies', 'Glucose', 'BloodPressure', 'SkinThickness', 'Insulin',\n",
       "       'BMI', 'DiabetesPedigreeFunction', 'Age', 'Outcome'],\n",
       "      dtype='object')"
      ]
     },
     "execution_count": 5,
     "metadata": {},
     "output_type": "execute_result"
    }
   ],
   "source": [
    "df.columns"
   ]
  },
  {
   "cell_type": "code",
   "execution_count": 6,
   "id": "dd6c8c71",
   "metadata": {},
   "outputs": [],
   "source": [
    "from sklearn.model_selection import train_test_split"
   ]
  },
  {
   "cell_type": "code",
   "execution_count": 7,
   "id": "18dd39a7",
   "metadata": {},
   "outputs": [],
   "source": [
    "x=df.drop(columns=['Outcome'],axis=1).values\n",
    "y=df['Outcome'].values"
   ]
  },
  {
   "cell_type": "code",
   "execution_count": 8,
   "id": "7f6bfda0",
   "metadata": {},
   "outputs": [],
   "source": [
    "x_train,x_test,y_train,y_test=train_test_split(x,y,test_size=0.2)"
   ]
  },
  {
   "cell_type": "code",
   "execution_count": 9,
   "id": "72c91904",
   "metadata": {},
   "outputs": [
    {
     "data": {
      "text/plain": [
       "array([[  1.   , 108.   ,  88.   , ...,  27.1  ,   0.4  ,  24.   ],\n",
       "       [  3.   ,  61.   ,  82.   , ...,  34.4  ,   0.243,  46.   ],\n",
       "       [  1.   , 122.   ,  90.   , ...,  49.7  ,   0.325,  31.   ],\n",
       "       ...,\n",
       "       [ 13.   , 152.   ,  90.   , ...,  26.8  ,   0.731,  43.   ],\n",
       "       [  7.   , 133.   ,  88.   , ...,  32.4  ,   0.262,  37.   ],\n",
       "       [  2.   , 112.   ,  86.   , ...,  38.4  ,   0.246,  28.   ]])"
      ]
     },
     "execution_count": 9,
     "metadata": {},
     "output_type": "execute_result"
    }
   ],
   "source": [
    "x_train"
   ]
  },
  {
   "cell_type": "code",
   "execution_count": 10,
   "id": "6766737b",
   "metadata": {},
   "outputs": [],
   "source": [
    "from sklearn.preprocessing import StandardScaler"
   ]
  },
  {
   "cell_type": "code",
   "execution_count": 11,
   "id": "deae41f3",
   "metadata": {},
   "outputs": [],
   "source": [
    "scaler=StandardScaler()\n",
    "x_train=scaler.fit_transform(x_train)\n",
    "x_test=scaler.fit_transform(x_test)"
   ]
  },
  {
   "cell_type": "code",
   "execution_count": 12,
   "id": "09a17982",
   "metadata": {},
   "outputs": [],
   "source": [
    "import tensorflow as tf\n",
    "from tensorflow.keras import layers,models\n",
    "from tensorflow.keras.optimizers import SGD"
   ]
  },
  {
   "cell_type": "code",
   "execution_count": 13,
   "id": "8f4660d2",
   "metadata": {},
   "outputs": [
    {
     "name": "stderr",
     "output_type": "stream",
     "text": [
      "C:\\Users\\Neha\\anaconda3\\lib\\site-packages\\keras\\src\\layers\\core\\dense.py:87: UserWarning: Do not pass an `input_shape`/`input_dim` argument to a layer. When using Sequential models, prefer using an `Input(shape)` object as the first layer in the model instead.\n",
      "  super().__init__(activity_regularizer=activity_regularizer, **kwargs)\n"
     ]
    },
    {
     "name": "stdout",
     "output_type": "stream",
     "text": [
      "Epoch 1/10\n",
      "\u001b[1m20/20\u001b[0m \u001b[32m━━━━━━━━━━━━━━━━━━━━\u001b[0m\u001b[37m\u001b[0m \u001b[1m1s\u001b[0m 4ms/step - accuracy: 0.5007 - loss: 0.6972\n",
      "Epoch 2/10\n",
      "\u001b[1m20/20\u001b[0m \u001b[32m━━━━━━━━━━━━━━━━━━━━\u001b[0m\u001b[37m\u001b[0m \u001b[1m0s\u001b[0m 3ms/step - accuracy: 0.6657 - loss: 0.6741\n",
      "Epoch 3/10\n",
      "\u001b[1m20/20\u001b[0m \u001b[32m━━━━━━━━━━━━━━━━━━━━\u001b[0m\u001b[37m\u001b[0m \u001b[1m0s\u001b[0m 3ms/step - accuracy: 0.6371 - loss: 0.6682\n",
      "Epoch 4/10\n",
      "\u001b[1m20/20\u001b[0m \u001b[32m━━━━━━━━━━━━━━━━━━━━\u001b[0m\u001b[37m\u001b[0m \u001b[1m0s\u001b[0m 3ms/step - accuracy: 0.6842 - loss: 0.6414 \n",
      "Epoch 5/10\n",
      "\u001b[1m20/20\u001b[0m \u001b[32m━━━━━━━━━━━━━━━━━━━━\u001b[0m\u001b[37m\u001b[0m \u001b[1m0s\u001b[0m 3ms/step - accuracy: 0.6757 - loss: 0.6340 \n",
      "Epoch 6/10\n",
      "\u001b[1m20/20\u001b[0m \u001b[32m━━━━━━━━━━━━━━━━━━━━\u001b[0m\u001b[37m\u001b[0m \u001b[1m0s\u001b[0m 3ms/step - accuracy: 0.6884 - loss: 0.6184 \n",
      "Epoch 7/10\n",
      "\u001b[1m20/20\u001b[0m \u001b[32m━━━━━━━━━━━━━━━━━━━━\u001b[0m\u001b[37m\u001b[0m \u001b[1m0s\u001b[0m 2ms/step - accuracy: 0.6756 - loss: 0.6179 \n",
      "Epoch 8/10\n",
      "\u001b[1m20/20\u001b[0m \u001b[32m━━━━━━━━━━━━━━━━━━━━\u001b[0m\u001b[37m\u001b[0m \u001b[1m0s\u001b[0m 3ms/step - accuracy: 0.6672 - loss: 0.6128 \n",
      "Epoch 9/10\n",
      "\u001b[1m20/20\u001b[0m \u001b[32m━━━━━━━━━━━━━━━━━━━━\u001b[0m\u001b[37m\u001b[0m \u001b[1m0s\u001b[0m 3ms/step - accuracy: 0.7041 - loss: 0.5911\n",
      "Epoch 10/10\n",
      "\u001b[1m20/20\u001b[0m \u001b[32m━━━━━━━━━━━━━━━━━━━━\u001b[0m\u001b[37m\u001b[0m \u001b[1m0s\u001b[0m 3ms/step - accuracy: 0.6897 - loss: 0.5860 \n",
      "\u001b[1m5/5\u001b[0m \u001b[32m━━━━━━━━━━━━━━━━━━━━\u001b[0m\u001b[37m\u001b[0m \u001b[1m0s\u001b[0m 4ms/step - accuracy: 0.6908 - loss: 0.5760  \n",
      "0.5671598315238953\n",
      "0.7077922224998474\n"
     ]
    }
   ],
   "source": [
    "model=models.Sequential()\n",
    "model.add(layers.Dense(128,activation='relu',input_shape=(x_train.shape[1],)))\n",
    "model.add(layers.Dense(64,activation='relu'))\n",
    "model.add(layers.Dense(32,activation='relu'))\n",
    "model.add(layers.Dense(1,activation='sigmoid'))\n",
    "\n",
    "model.compile(optimizer='SGD',loss='binary_crossentropy',metrics=['accuracy'])\n",
    "\n",
    "history=model.fit(x_train,y_train,batch_size=32,epochs=10)\n",
    "\n",
    "\n",
    "test_accuracy,test_loss=model.evaluate(x_test,y_test)\n",
    "\n",
    "print(test_accuracy)\n",
    "print(test_loss)"
   ]
  },
  {
   "cell_type": "code",
   "execution_count": 18,
   "id": "0545ba58",
   "metadata": {},
   "outputs": [
    {
     "name": "stdout",
     "output_type": "stream",
     "text": [
      "\u001b[1m5/5\u001b[0m \u001b[32m━━━━━━━━━━━━━━━━━━━━\u001b[0m\u001b[37m\u001b[0m \u001b[1m0s\u001b[0m 3ms/step \n",
      "[[0.41481516]\n",
      " [0.37604633]\n",
      " [0.32416365]\n",
      " [0.4930424 ]\n",
      " [0.46619108]\n",
      " [0.52135396]\n",
      " [0.45270535]\n",
      " [0.30186102]\n",
      " [0.1808236 ]\n",
      " [0.4366732 ]\n",
      " [0.32160312]\n",
      " [0.30503023]\n",
      " [0.33741146]\n",
      " [0.34107956]\n",
      " [0.4481238 ]\n",
      " [0.46886668]\n",
      " [0.38958892]\n",
      " [0.32315224]\n",
      " [0.46175542]\n",
      " [0.39446896]\n",
      " [0.2829396 ]\n",
      " [0.35478723]\n",
      " [0.30357102]\n",
      " [0.3294041 ]\n",
      " [0.4437116 ]\n",
      " [0.3199083 ]\n",
      " [0.41047946]\n",
      " [0.345485  ]\n",
      " [0.37058786]\n",
      " [0.37066895]\n",
      " [0.33197352]\n",
      " [0.3288181 ]\n",
      " [0.5839592 ]\n",
      " [0.44419548]\n",
      " [0.3473691 ]\n",
      " [0.35461637]\n",
      " [0.2861931 ]\n",
      " [0.36782777]\n",
      " [0.34754393]\n",
      " [0.3250497 ]\n",
      " [0.35167536]\n",
      " [0.33250514]\n",
      " [0.33434793]\n",
      " [0.36919084]\n",
      " [0.39507902]\n",
      " [0.47119915]\n",
      " [0.40956277]\n",
      " [0.45877716]\n",
      " [0.31084362]\n",
      " [0.421449  ]\n",
      " [0.40420717]\n",
      " [0.366643  ]\n",
      " [0.49707955]\n",
      " [0.28980318]\n",
      " [0.38003382]\n",
      " [0.38793156]\n",
      " [0.45580137]\n",
      " [0.28278658]\n",
      " [0.37821433]\n",
      " [0.5854199 ]\n",
      " [0.15290208]\n",
      " [0.27743202]\n",
      " [0.32588825]\n",
      " [0.31867826]\n",
      " [0.35427848]\n",
      " [0.4690472 ]\n",
      " [0.34404734]\n",
      " [0.38585964]\n",
      " [0.27503803]\n",
      " [0.3243554 ]\n",
      " [0.511966  ]\n",
      " [0.3477605 ]\n",
      " [0.36266062]\n",
      " [0.45891625]\n",
      " [0.32401085]\n",
      " [0.48382807]\n",
      " [0.37654757]\n",
      " [0.3781468 ]\n",
      " [0.270728  ]\n",
      " [0.3335624 ]\n",
      " [0.3680254 ]\n",
      " [0.33722883]\n",
      " [0.3801567 ]\n",
      " [0.36027378]\n",
      " [0.46021473]\n",
      " [0.4166755 ]\n",
      " [0.38128126]\n",
      " [0.30367988]\n",
      " [0.5493398 ]\n",
      " [0.3791725 ]\n",
      " [0.30542275]\n",
      " [0.270798  ]\n",
      " [0.39066848]\n",
      " [0.38504228]\n",
      " [0.45240837]\n",
      " [0.4796034 ]\n",
      " [0.32486537]\n",
      " [0.430222  ]\n",
      " [0.30704418]\n",
      " [0.387035  ]\n",
      " [0.4074863 ]\n",
      " [0.2736445 ]\n",
      " [0.4883658 ]\n",
      " [0.3516391 ]\n",
      " [0.42454842]\n",
      " [0.4945572 ]\n",
      " [0.6317419 ]\n",
      " [0.26600024]\n",
      " [0.43960983]\n",
      " [0.36978102]\n",
      " [0.36567903]\n",
      " [0.52386594]\n",
      " [0.15663539]\n",
      " [0.29436955]\n",
      " [0.31732625]\n",
      " [0.25484052]\n",
      " [0.52001286]\n",
      " [0.3780608 ]\n",
      " [0.35320434]\n",
      " [0.29591897]\n",
      " [0.34935614]\n",
      " [0.32020965]\n",
      " [0.50068784]\n",
      " [0.3657515 ]\n",
      " [0.32158926]\n",
      " [0.30690435]\n",
      " [0.43030852]\n",
      " [0.4165158 ]\n",
      " [0.36255872]\n",
      " [0.47087517]\n",
      " [0.36205813]\n",
      " [0.4267319 ]\n",
      " [0.38300443]\n",
      " [0.4293924 ]\n",
      " [0.4525583 ]\n",
      " [0.3286167 ]\n",
      " [0.3442273 ]\n",
      " [0.47772744]\n",
      " [0.5032242 ]\n",
      " [0.49153057]\n",
      " [0.48196542]\n",
      " [0.36875483]\n",
      " [0.3931005 ]\n",
      " [0.35621682]\n",
      " [0.27818525]\n",
      " [0.3093452 ]\n",
      " [0.480926  ]\n",
      " [0.24018553]\n",
      " [0.3314322 ]\n",
      " [0.43144187]\n",
      " [0.26674512]\n",
      " [0.37209424]\n",
      " [0.5261093 ]\n",
      " [0.4129383 ]]\n"
     ]
    }
   ],
   "source": [
    "import random\n",
    "predictions=model.predict(x_test)\n",
    "print(predictions)"
   ]
  },
  {
   "cell_type": "code",
   "execution_count": 19,
   "id": "363d34cf",
   "metadata": {},
   "outputs": [
    {
     "name": "stdout",
     "output_type": "stream",
     "text": [
      "Prediction 1: Not Diabetic\n",
      "\n",
      "Prediction 2: Not Diabetic\n",
      "\n",
      "Prediction 3: Not Diabetic\n",
      "\n",
      "Prediction 4: Not Diabetic\n",
      "\n",
      "Prediction 5: Not Diabetic\n",
      "\n"
     ]
    }
   ],
   "source": [
    "n=5\n",
    "for i in range(n):\n",
    "    if (predictions[i]>0.5):\n",
    "        prediction='Diabetic'\n",
    "    else:\n",
    "        prediction='Not Diabetic'\n",
    "    print(f\"Prediction {i+1}: {prediction}\\n\")"
   ]
  }
 ],
 "metadata": {
  "kernelspec": {
   "display_name": "Python 3 (ipykernel)",
   "language": "python",
   "name": "python3"
  },
  "language_info": {
   "codemirror_mode": {
    "name": "ipython",
    "version": 3
   },
   "file_extension": ".py",
   "mimetype": "text/x-python",
   "name": "python",
   "nbconvert_exporter": "python",
   "pygments_lexer": "ipython3",
   "version": "3.10.9"
  }
 },
 "nbformat": 4,
 "nbformat_minor": 5
}
